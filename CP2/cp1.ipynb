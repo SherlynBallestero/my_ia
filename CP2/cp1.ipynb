{
  "cells": [
    {
      "cell_type": "markdown",
      "metadata": {
        "id": "kcMfuN3uJlHX"
      },
      "source": [
        "# Clase Práctica 1: Búsqueda\n",
        "---"
      ]
    },
    {
      "cell_type": "markdown",
      "metadata": {
        "id": "m9B9MeoNJlHa"
      },
      "source": [
        "# Problem and Node"
      ]
    },
    {
      "cell_type": "code",
      "execution_count": 88,
      "metadata": {
        "id": "MlojSCV2JlHb"
      },
      "outputs": [],
      "source": [
        "%matplotlib inline\n",
        "import matplotlib.pyplot as plt\n",
        "import random\n",
        "import heapq\n",
        "import math\n",
        "import sys\n",
        "from collections import defaultdict, deque, Counter\n",
        "from itertools import combinations\n",
        "\n",
        "\n",
        "class Problem(object):\n",
        "    \"\"\"The abstract class for a formal problem. A new domain subclasses this,\n",
        "    overriding `actions` and `results`, and perhaps other methods.\n",
        "    The default heuristic is 0 and the default action cost is 1 for all states.\n",
        "    When you create an instance of a subclass, specify `initial`, and `goal` states\n",
        "    (or give an `is_goal` method) and perhaps other keyword args for the subclass.\"\"\"\n",
        "\n",
        "    def __init__(self, initial=None, goal=None, **kwds):\n",
        "        self.__dict__.update(initial=initial, goal=goal, **kwds)\n",
        "\n",
        "    def actions(self, state):        raise NotImplementedError\n",
        "    def result(self, state, action): raise NotImplementedError\n",
        "    def is_goal(self, state):        return state == self.goal\n",
        "    def action_cost(self, s, a, s1): return 1\n",
        "    def h(self, node):               return 0\n",
        "\n",
        "    def __str__(self):\n",
        "        return '{}({!r}, {!r})'.format(\n",
        "            type(self).__name__, self.initial, self.goal)\n",
        "\n",
        "\n",
        "class Node:\n",
        "    \"A Node in a search tree.\"\n",
        "    def __init__(self, state, parent=None, action=None, path_cost=0):\n",
        "        self.__dict__.update(state=state, parent=parent, action=action, path_cost=path_cost)\n",
        "\n",
        "    def __repr__(self): return '<{}>'.format(self.state)\n",
        "    def __len__(self): return 0 if self.parent is None else (1 + len(self.parent))\n",
        "    def __lt__(self, other): return self.path_cost < other.path_cost\n",
        "\n",
        "\n",
        "failure = Node('failure', path_cost=math.inf) # Indicates an algorithm couldn't find a solution.\n",
        "cutoff  = Node('cutoff',  path_cost=math.inf) # Indicates iterative deepening search was cut off.\n",
        "\n",
        "\n",
        "def expand(problem, node):\n",
        "    \"Expand a node, generating the children nodes.\"\n",
        "    s = node.state\n",
        "    for action in problem.actions(s):\n",
        "        s1 = problem.result(s, action)\n",
        "        cost = node.path_cost + problem.action_cost(s, action, s1)\n",
        "        yield Node(s1, node, action, cost)\n",
        "\n",
        "\n",
        "def path_actions(node):\n",
        "    \"The sequence of actions to get to this node.\"\n",
        "    if node.parent is None:\n",
        "        return []\n",
        "    return path_actions(node.parent) + [node.action]\n",
        "\n",
        "\n",
        "def path_states(node):\n",
        "    \"The sequence of states to get to this node.\"\n",
        "    if node in (cutoff, failure, None):\n",
        "        return []\n",
        "    return path_states(node.parent) + [node.state]"
      ]
    },
    {
      "cell_type": "markdown",
      "metadata": {
        "id": "D6q-rfOIJlHd"
      },
      "source": [
        "# Queues"
      ]
    },
    {
      "cell_type": "code",
      "execution_count": 89,
      "metadata": {
        "id": "zOST-faMJlHe"
      },
      "outputs": [],
      "source": [
        "FIFOQueue = deque\n",
        "\n",
        "LIFOQueue = list\n",
        "\n",
        "class PriorityQueue:\n",
        "    \"\"\"A queue in which the item with minimum f(item) is always popped first.\"\"\"\n",
        "\n",
        "    def __init__(self, items=(), key=lambda x: x):\n",
        "        self.key = key\n",
        "        self.items = [] # a heap of (score, item) pairs\n",
        "        for item in items:\n",
        "            self.add(item)\n",
        "\n",
        "    def add(self, item):\n",
        "        \"\"\"Add item to the queuez.\"\"\"\n",
        "        pair = (self.key(item), item)\n",
        "        heapq.heappush(self.items, pair)\n",
        "\n",
        "    def pop(self):\n",
        "        \"\"\"Pop and return the item with min f(item) value.\"\"\"\n",
        "        return heapq.heappop(self.items)[1]\n",
        "\n",
        "    def top(self): return self.items[0][1]\n",
        "\n",
        "    def __len__(self): return len(self.items)"
      ]
    },
    {
      "cell_type": "markdown",
      "metadata": {
        "id": "rrOzaUMlJlHe"
      },
      "source": [
        "# Search Algorithms\n",
        "\n",
        "Con best-first search al variar la función *f(n)* se tienen diferentes algoritmos de búsqueda."
      ]
    },
    {
      "cell_type": "code",
      "execution_count": 90,
      "metadata": {
        "id": "v_2emFi4JlHf",
        "tags": []
      },
      "outputs": [],
      "source": [
        "def best_first_search(problem, f):\n",
        "    \"Search nodes with minimum f(node) value first.\"\n",
        "    node = Node(problem.initial)\n",
        "    frontier = PriorityQueue([node], key=f)\n",
        "    reached = {problem.initial: node}\n",
        "    while frontier:\n",
        "        node = frontier.pop()\n",
        "        if problem.is_goal(node.state):\n",
        "            return node\n",
        "        for child in expand(problem, node):\n",
        "            s = child.state\n",
        "            if s not in reached or child.path_cost < reached[s].path_cost:\n",
        "                reached[s] = child\n",
        "                frontier.add(child)\n",
        "    return failure\n",
        "\n",
        "\n",
        "def best_first_tree_search(problem, f):\n",
        "    \"A version of best_first_search without the `reached` table.\"\n",
        "    frontier = PriorityQueue([Node(problem.initial)], key=f)\n",
        "    while frontier:\n",
        "        node = frontier.pop()\n",
        "        if problem.is_goal(node.state):\n",
        "            return node\n",
        "        for child in expand(problem, node):\n",
        "            if not is_cycle(child):\n",
        "                frontier.add(child)\n",
        "    return failure\n",
        "\n",
        "\n",
        "def g(n): return n.path_cost\n",
        "\n",
        "\n",
        "def astar_search(problem, h=None):\n",
        "    \"\"\"Search nodes with minimum f(n) = g(n) + h(n).\"\"\"\n",
        "    h = h or problem.h\n",
        "    return best_first_search(problem, f=lambda n: g(n) + h(n))\n",
        "\n",
        "\n",
        "def astar_tree_search(problem, h=None):\n",
        "    \"\"\"Search nodes with minimum f(n) = g(n) + h(n), with no `reached` table.\"\"\"\n",
        "    h = h or problem.h\n",
        "    return best_first_tree_search(problem, f=lambda n: g(n) + h(n))\n",
        "\n",
        "\n",
        "def weighted_astar_search(problem, h=None, weight=1.4):\n",
        "    \"\"\"Search nodes with minimum f(n) = g(n) + weight * h(n).\"\"\"\n",
        "    h = h or problem.h\n",
        "    return best_first_search(problem, f=lambda n: g(n) + weight * h(n))\n",
        "\n",
        "\n",
        "def greedy_bfs(problem, h=None):\n",
        "    \"\"\"Search nodes with minimum h(n).\"\"\"\n",
        "    h = h or problem.h\n",
        "    return best_first_search(problem, f=h)\n",
        "\n",
        "\n",
        "def uniform_cost_search(problem):\n",
        "    \"Search nodes with minimum path cost first.\"\n",
        "    return best_first_search(problem, f=g)\n",
        "\n",
        "\n",
        "def breadth_first_bfs(problem):\n",
        "    \"Search shallowest nodes in the search tree first; using best-first.\"\n",
        "    return best_first_search(problem, f=len)\n",
        "\n",
        "\n",
        "def depth_first_bfs(problem):\n",
        "    \"Search deepest nodes in the search tree first; using best-first.\"\n",
        "    return best_first_search(problem, f=lambda n: -len(n))\n",
        "\n",
        "\n",
        "def is_cycle(node, k=30):\n",
        "    \"Does this node form a cycle of length k or less?\"\n",
        "    def find_cycle(ancestor, k):\n",
        "        return (ancestor is not None and k > 0 and\n",
        "                (ancestor.state == node.state or find_cycle(ancestor.parent, k - 1)))\n",
        "    return find_cycle(node.parent, k)\n",
        "\n"
      ]
    },
    {
      "cell_type": "code",
      "execution_count": 91,
      "metadata": {
        "id": "oGKXCJDNJlHf"
      },
      "outputs": [],
      "source": [
        "def breadth_first_search(problem):\n",
        "    \"Search shallowest nodes in the search tree first.\"\n",
        "    node = Node(problem.initial)\n",
        "    if problem.is_goal(problem.initial):\n",
        "        return node\n",
        "    frontier = FIFOQueue([node])\n",
        "    reached = {problem.initial}\n",
        "    while frontier:\n",
        "        node = frontier.pop()\n",
        "        for child in expand(problem, node):\n",
        "            s = child.state\n",
        "            if problem.is_goal(s):\n",
        "                return child\n",
        "            if s not in reached:\n",
        "                reached.add(s)\n",
        "                frontier.appendleft(child)\n",
        "    return failure\n",
        "\n",
        "\n",
        "def iterative_deepening_search(problem):\n",
        "    \"Do depth-limited search with increasing depth limits.\"\n",
        "    for limit in range(1, sys.maxsize):\n",
        "        result = depth_limited_search(problem, limit)\n",
        "        if result != cutoff:\n",
        "            return result\n",
        "\n",
        "\n",
        "def depth_limited_search(problem, limit=10):\n",
        "    \"Search deepest nodes in the search tree first.\"\n",
        "    frontier = LIFOQueue([Node(problem.initial)])\n",
        "    result = failure\n",
        "    while frontier:\n",
        "        node = frontier.pop()\n",
        "        if problem.is_goal(node.state):\n",
        "            return node\n",
        "        elif len(node) >= limit:\n",
        "            result = cutoff\n",
        "        elif not is_cycle(node):\n",
        "            for child in expand(problem, node):\n",
        "                frontier.append(child)\n",
        "    return result\n",
        "\n",
        "\n",
        "def depth_first_recursive_search(problem, node=None):\n",
        "    if node is None:\n",
        "        node = Node(problem.initial)\n",
        "    if problem.is_goal(node.state):\n",
        "        return node\n",
        "    elif is_cycle(node):\n",
        "        return failure\n",
        "    else:\n",
        "        for child in expand(problem, node):\n",
        "            result = depth_first_recursive_search(problem, child)\n",
        "            if result:\n",
        "                return result\n",
        "        return failure"
      ]
    },
    {
      "cell_type": "markdown",
      "metadata": {
        "id": "vrOaDN2ZJlHg"
      },
      "source": [
        "# Bidirectional Best-First Search"
      ]
    },
    {
      "cell_type": "code",
      "execution_count": 92,
      "metadata": {
        "id": "frf7dbiwJlHg"
      },
      "outputs": [],
      "source": [
        "def bidirectional_best_first_search(problem_f, f_f, problem_b, f_b, terminated):\n",
        "    node_f = Node(problem_f.initial)\n",
        "    node_b = Node(problem_f.goal)\n",
        "    frontier_f, reached_f = PriorityQueue([node_f], key=f_f), {node_f.state: node_f}\n",
        "    frontier_b, reached_b = PriorityQueue([node_b], key=f_b), {node_b.state: node_b}\n",
        "    solution = failure\n",
        "    while frontier_f and frontier_b and not terminated(solution, frontier_f, frontier_b):\n",
        "        def S1(node, f):\n",
        "            return str(int(f(node))) + ' ' + str(path_states(node))\n",
        "        print('Bi:', S1(frontier_f.top(), f_f), S1(frontier_b.top(), f_b))\n",
        "        if f_f(frontier_f.top()) < f_b(frontier_b.top()):\n",
        "            solution = proceed('f', problem_f, frontier_f, reached_f, reached_b, solution)\n",
        "        else:\n",
        "            solution = proceed('b', problem_b, frontier_b, reached_b, reached_f, solution)\n",
        "    return solution\n",
        "\n",
        "def inverse_problem(problem):\n",
        "    if isinstance(problem, CountCalls):\n",
        "        return CountCalls(inverse_problem(problem._object))\n",
        "    else:\n",
        "        inv = copy.copy(problem)\n",
        "        inv.initial, inv.goal = inv.goal, inv.initial\n",
        "        return inv"
      ]
    },
    {
      "cell_type": "code",
      "execution_count": 93,
      "metadata": {
        "id": "5iINqXRmJlHh"
      },
      "outputs": [],
      "source": [
        "def bidirectional_uniform_cost_search(problem_f):\n",
        "    def terminated(solution, frontier_f, frontier_b):\n",
        "        n_f, n_b = frontier_f.top(), frontier_b.top()\n",
        "        return g(n_f) + g(n_b) > g(solution)\n",
        "    return bidirectional_best_first_search(problem_f, g, inverse_problem(problem_f), g, terminated)\n",
        "\n",
        "def bidirectional_astar_search(problem_f):\n",
        "    def terminated(solution, frontier_f, frontier_b):\n",
        "        nf, nb = frontier_f.top(), frontier_b.top()\n",
        "        return g(nf) + g(nb) > g(solution)\n",
        "    problem_f = inverse_problem(problem_f)\n",
        "    return bidirectional_best_first_search(problem_f, lambda n: g(n) + problem_f.h(n),\n",
        "                                           problem_b, lambda n: g(n) + problem_b.h(n),\n",
        "                                           terminated)\n",
        "\n",
        "\n",
        "def proceed(direction, problem, frontier, reached, reached2, solution):\n",
        "    node = frontier.pop()\n",
        "    for child in expand(problem, node):\n",
        "        s = child.state\n",
        "        print('proceed', direction, S(child))\n",
        "        if s not in reached or child.path_cost < reached[s].path_cost:\n",
        "            frontier.add(child)\n",
        "            reached[s] = child\n",
        "            if s in reached2: # Frontiers collide; solution found\n",
        "                solution2 = (join_nodes(child, reached2[s]) if direction == 'f' else\n",
        "                             join_nodes(reached2[s], child))\n",
        "                #print('solution', path_states(solution2), solution2.path_cost,\n",
        "                # path_states(child), path_states(reached2[s]))\n",
        "                if solution2.path_cost < solution.path_cost:\n",
        "                    solution = solution2\n",
        "    return solution\n",
        "\n",
        "S = path_states\n",
        "\n",
        "#A-S-R + B-P-R => A-S-R-P + B-P\n",
        "def join_nodes(nf, nb):\n",
        "    \"\"\"Join the reverse of the backward node nb to the forward node nf.\"\"\"\n",
        "    #print('join', S(nf), S(nb))\n",
        "    join = nf\n",
        "    while nb.parent is not None:\n",
        "        cost = join.path_cost + nb.path_cost - nb.parent.path_cost\n",
        "        join = Node(nb.parent.state, join, nb.action, cost)\n",
        "        nb = nb.parent\n",
        "        #print('  now join', S(join), 'with nb', S(nb), 'parent', S(nb.parent))\n",
        "    return join\n",
        "\n"
      ]
    },
    {
      "cell_type": "markdown",
      "metadata": {
        "id": "8ZnzF1kLJlHh"
      },
      "source": [
        "# Problemas"
      ]
    },
    {
      "cell_type": "markdown",
      "metadata": {
        "id": "AIuFc8zyJlHh"
      },
      "source": [
        "# Water Pouring Problems\n",
        "\n",
        "![](images/water22.png)\n",
        "\n",
        "En un problema de verter agua se da una colección de jarras, cada una de las cuales tiene un tamaño (capacidad) en litros y un nivel actual de agua (en litros). El objetivo es medir un cierto nivel de agua; puede aparecer en cualquiera de las jarras. Un estado está representado por una tupla de niveles de agua actuales, y las acciones disponibles son:\n",
        "- `(Fill, i)`: llena la jarra `i` hasta el tope (de un grifo con agua ilimitada).\n",
        "- `(Dump, i)`: vuelca toda el agua de la `i`ésima jarra.\n",
        "- `(Pour, i, j)`: vierte agua de la jarra `i` en la jarra `j` hasta que la jarra `i` esté vacía o la jarra `j` esté llena, lo que ocurra primero."
      ]
    },
    {
      "cell_type": "code",
      "execution_count": 94,
      "metadata": {
        "id": "ZlLPnNarJlHi"
      },
      "outputs": [],
      "source": [
        "class PourProblem(Problem):\n",
        "    \"\"\"Problem about pouring water between jugs to achieve some water level.\n",
        "    Each state is a tuples of water levels. In the initialization, also provide a tuple of\n",
        "    jug sizes, e.g. PourProblem(initial=(0, 0), goal=4, sizes=(5, 3)),\n",
        "    which means two jugs of sizes 5 and 3, initially both empty, with the goal\n",
        "    of getting a level of 4 in either jug.\"\"\"\n",
        "\n",
        "    def actions(self, state):\n",
        "        \"\"\"The actions executable in this state.\"\"\"\n",
        "        jugs = range(len(state))\n",
        "        return ([('Fill', i)    for i in jugs if state[i] < self.sizes[i]] +\n",
        "                [('Dump', i)    for i in jugs if state[i]] +\n",
        "                [('Pour', i, j) for i in jugs if state[i] for j in jugs if i != j])\n",
        "\n",
        "    def result(self, state, action):\n",
        "        \"\"\"The state that results from executing this action in this state.\"\"\"\n",
        "        result = list(state)\n",
        "        act, i, *_ = action\n",
        "        if act == 'Fill':   # Fill i to capacity\n",
        "            result[i] = self.sizes[i]\n",
        "        elif act == 'Dump': # Empty i\n",
        "            result[i] = 0\n",
        "        elif act == 'Pour': # Pour from i into j\n",
        "            j = action[2]\n",
        "            amount = min(state[i], self.sizes[j] - state[j])\n",
        "            result[i] -= amount\n",
        "            result[j] += amount\n",
        "        return tuple(result)\n",
        "\n",
        "    def is_goal(self, state):\n",
        "        \"\"\"True if the goal level is in any one of the jugs.\"\"\"\n",
        "        return self.goal in state"
      ]
    },
    {
      "cell_type": "markdown",
      "metadata": {
        "id": "MDk0dHY4JlHi"
      },
      "source": [
        "En un `GreenPourProblem`, los estados y las acciones son los mismos, pero en lugar de que todas las acciones cuesten 1, en estos problemas el costo de una acción es la cantidad de agua que sale del grifo. (Existe el problema de que las acciones que no son *Fill* tienen un costo de 0, lo que en general puede llevar a soluciones indefinidamente largas, pero en este problema hay un número finito de estados, por lo que estamos bien)."
      ]
    },
    {
      "cell_type": "code",
      "execution_count": 95,
      "metadata": {
        "id": "0dgs80_vJlHi"
      },
      "outputs": [],
      "source": [
        "class GreenPourProblem(PourProblem):\n",
        "    \"\"\"A PourProblem in which the cost is the amount of water used.\"\"\"\n",
        "    def action_cost(self, s, action, s1):\n",
        "        \"The cost is the amount of water used.\"\n",
        "        act, i, *_ = action\n",
        "        return self.sizes[i] - s[i] if act == 'Fill' else 0"
      ]
    },
    {
      "cell_type": "code",
      "execution_count": 96,
      "metadata": {
        "id": "hLEur5vtJlHi"
      },
      "outputs": [],
      "source": [
        "# Some specific PourProblems\n",
        "\n",
        "p1 = PourProblem((1, 1, 1), 13, sizes=(2, 16, 32))\n",
        "p2 = PourProblem((0, 0, 0), 21, sizes=(8, 11, 31))\n",
        "p3 = PourProblem((0, 0),     8, sizes=(7,9))\n",
        "p4 = PourProblem((0, 0, 0), 21, sizes=(8, 11, 31))\n",
        "p5 = PourProblem((0, 0),     4, sizes=(3, 5))\n",
        "\n",
        "g1 = GreenPourProblem((1, 1, 1), 13, sizes=(2, 16, 32))\n",
        "g2 = GreenPourProblem((0, 0, 0), 21, sizes=(8, 11, 31))\n",
        "g3 = GreenPourProblem((0, 0),     8, sizes=(7,9))\n",
        "g4 = GreenPourProblem((0, 0, 0), 21, sizes=(8, 11, 31))\n",
        "g5 = GreenPourProblem((0, 0),     4, sizes=(3, 5))"
      ]
    },
    {
      "cell_type": "code",
      "execution_count": 97,
      "metadata": {
        "colab": {
          "base_uri": "https://localhost:8080/"
        },
        "id": "d7JmTLTlJlHk",
        "outputId": "829e323a-2554-4f06-ad72-6f837300f2e8"
      },
      "outputs": [
        {
          "data": {
            "text/plain": [
              "([('Fill', 1), ('Pour', 1, 0), ('Dump', 0), ('Pour', 1, 0)],\n",
              " [(1, 1, 1), (1, 16, 1), (2, 15, 1), (0, 15, 1), (2, 13, 1)])"
            ]
          },
          "execution_count": 97,
          "metadata": {},
          "output_type": "execute_result"
        }
      ],
      "source": [
        "soln = breadth_first_search(p1)\n",
        "path_actions(soln), path_states(soln)"
      ]
    },
    {
      "cell_type": "markdown",
      "metadata": {
        "id": "IE8ZTlT4JlHl"
      },
      "source": [
        "# 8 Puzzle Problems\n",
        "\n",
        "![](images/puz3.png)\n",
        "\n",
        "Un puzzle de piezas deslizantes donde puedes intercambiar el espacio en blanco con una pieza adyacente, tratando de alcanzar una configuración ordenada. Las celdas están numeradas del 0 al 8, comenzando en la parte superior izquierda y siguiendo fila por fila de izquierda a derecha. Las piezas están numeradas del 1 al 8, siendo el 0 el espacio en blanco. Una acción es el número de índice de celda que se intercambiará con el espacio en blanco (*no* el número real que se intercambiará sino el índice en el estado). Entonces, el diagrama de arriba a la izquierda representa el estado `(5, 2, 7, 8, 4, 0, 1, 3, 6)`, y la acción es `8`, porque la celda número 8 (la novena o última celda, el `6` en la parte inferior derecha) se intercambia con el espacio en blanco.\n",
        "\n",
        "Hay dos conjuntos separados de estados a los que no se puede llegar uno desde el otro. Un conjunto tiene un número par de \"inversiones\"; el otro tiene un número impar. Una inversión es cuando una pieza en el estado es más grande que una pieza que le sigue."
      ]
    },
    {
      "cell_type": "code",
      "execution_count": 98,
      "metadata": {
        "id": "F-HT-b17JlHl"
      },
      "outputs": [],
      "source": [
        "class EightPuzzle(Problem):\n",
        "    \"\"\" The problem of sliding tiles numbered from 1 to 8 on a 3x3 board,\n",
        "    where one of the squares is a blank, trying to reach a goal configuration.\n",
        "    A board state is represented as a tuple of length 9, where the element at index i\n",
        "    represents the tile number at index i, or 0 if for the empty square, e.g. the goal:\n",
        "        1 2 3\n",
        "        4 5 6 ==> (1, 2, 3, 4, 5, 6, 7, 8, 0)\n",
        "        7 8 _\n",
        "    \"\"\"\n",
        "\n",
        "    def __init__(self, initial, goal=(0, 1, 2, 3, 4, 5, 6, 7, 8)):\n",
        "        assert inversions(initial) % 2 == inversions(goal) % 2 # Parity check\n",
        "        self.initial, self.goal = initial, goal\n",
        "\n",
        "    def actions(self, state):\n",
        "        \"\"\"The indexes of the squares that the blank can move to.\"\"\"\n",
        "        moves = ((1, 3),    (0, 2, 4),    (1, 5),\n",
        "                 (0, 4, 6), (1, 3, 5, 7), (2, 4, 8),\n",
        "                 (3, 7),    (4, 6, 8),    (7, 5))\n",
        "        blank = state.index(0)\n",
        "        return moves[blank]\n",
        "\n",
        "    def result(self, state, action):\n",
        "        \"\"\"Swap the blank with the square numbered `action`.\"\"\"\n",
        "        s = list(state)\n",
        "        blank = state.index(0)\n",
        "        s[action], s[blank] = s[blank], s[action]\n",
        "        return tuple(s)\n",
        "\n",
        "    def h1(self, node):\n",
        "        \"\"\"The misplaced tiles heuristic.\"\"\"\n",
        "        return hamming_distance(node.state, self.goal)\n",
        "\n",
        "    def h2(self, node):\n",
        "        \"\"\"The Manhattan heuristic.\"\"\"\n",
        "        X = (0, 1, 2, 0, 1, 2, 0, 1, 2)\n",
        "        Y = (0, 0, 0, 1, 1, 1, 2, 2, 2)\n",
        "        return sum(abs(X[s] - X[g]) + abs(Y[s] - Y[g])\n",
        "                   for (s, g) in zip(node.state, self.goal) if s != 0)\n",
        "\n",
        "    def h(self, node): return self.h2(node)\n",
        "\n",
        "\n",
        "def hamming_distance(A, B):\n",
        "    \"Number of positions where vectors A and B are different.\"\n",
        "    return sum(a != b for a, b in zip(A, B))\n",
        "\n",
        "\n",
        "def inversions(board):\n",
        "    \"The number of times a piece is a smaller number than a following piece.\"\n",
        "    return sum((a > b and a != 0 and b != 0) for (a, b) in combinations(board, 2))\n",
        "\n",
        "\n",
        "def board8(board, fmt=(3 * '{} {} {}\\n')):\n",
        "    \"A string representing an 8-puzzle board\"\n",
        "    return fmt.format(*board).replace('0', '_')\n",
        "\n",
        "class Board(defaultdict):\n",
        "    empty = '.'\n",
        "    off = '#'\n",
        "    def __init__(self, board=None, width=8, height=8, to_move=None, **kwds):\n",
        "        if board is not None:\n",
        "            self.update(board)\n",
        "            self.width, self.height = (board.width, board.height)\n",
        "        else:\n",
        "            self.width, self.height = (width, height)\n",
        "        self.to_move = to_move\n",
        "\n",
        "    def __missing__(self, key):\n",
        "        x, y = key\n",
        "        if x < 0 or x >= self.width or y < 0 or y >= self.height:\n",
        "            return self.off\n",
        "        else:\n",
        "            return self.empty\n",
        "\n",
        "    def __repr__(self):\n",
        "        def row(y): return ' '.join(self[x, y] for x in range(self.width))\n",
        "        return '\\n'.join(row(y) for y in range(self.height))\n",
        "\n",
        "    def __hash__(self):\n",
        "        return hash(tuple(sorted(self.items()))) + hash(self.to_move)"
      ]
    },
    {
      "cell_type": "code",
      "execution_count": 99,
      "metadata": {
        "id": "Uju8mbDcJlHm"
      },
      "outputs": [],
      "source": [
        "# Some specific EightPuzzle problems\n",
        "\n",
        "e1 = EightPuzzle((1, 4, 2, 0, 7, 5, 3, 6, 8))\n",
        "e2 = EightPuzzle((1, 2, 3, 4, 5, 6, 7, 8, 0))\n",
        "e3 = EightPuzzle((4, 0, 2, 5, 1, 3, 7, 8, 6))\n",
        "e4 = EightPuzzle((7, 2, 4, 5, 0, 6, 8, 3, 1))\n",
        "e5 = EightPuzzle((8, 6, 7, 2, 5, 4, 3, 0, 1))"
      ]
    },
    {
      "cell_type": "code",
      "execution_count": 100,
      "metadata": {
        "colab": {
          "base_uri": "https://localhost:8080/"
        },
        "id": "UBPqjab7JlHm",
        "outputId": "a3b3ddb0-7641-4e54-8b06-092f0ea8911d"
      },
      "outputs": [
        {
          "name": "stdout",
          "output_type": "stream",
          "text": [
            "1 4 2\n",
            "_ 7 5\n",
            "3 6 8\n",
            "\n",
            "1 4 2\n",
            "3 7 5\n",
            "_ 6 8\n",
            "\n",
            "1 4 2\n",
            "3 7 5\n",
            "6 _ 8\n",
            "\n",
            "1 4 2\n",
            "3 _ 5\n",
            "6 7 8\n",
            "\n",
            "1 _ 2\n",
            "3 4 5\n",
            "6 7 8\n",
            "\n",
            "_ 1 2\n",
            "3 4 5\n",
            "6 7 8\n",
            "\n"
          ]
        }
      ],
      "source": [
        "# Solve an 8 puzzle problem and print out each state\n",
        "\n",
        "for s in path_states(astar_search(e1)):\n",
        "    print(board8(s))"
      ]
    },
    {
      "cell_type": "markdown",
      "metadata": {
        "id": "UjJYOMHAJlHn"
      },
      "source": [
        "# Jumping Frogs Puzzle\n",
        "\n",
        "En este puzzle (que también se puede jugar como un juego de dos jugadores), el estado inicial es una línea de cuadrados, con N piezas de un tipo a la izquierda, luego un cuadrado vacío, luego N piezas de otro tipo a la derecha. . El siguiente diagrama usa 2 sapos azules y 2 ranas rojas; representaremos esto como la cadena `'LL.RR'`. El objetivo es intercambiar las piezas, llegando a `'RR.LL'`. Una pieza `'L'` se mueve de izquierda a derecha, ya sea deslizándose un espacio hacia adelante a un espacio vacío, o dos espacios hacia adelante si ese espacio está vacío y si hay una `'R'` en el medio para saltar. Las piezas `'R'` se mueven de derecha a izquierda de forma análoga. Una acción será un par `(i, j)` que significa intercambiar las piezas en esos índices. El conjunto de acciones para la posición N = 2 a continuación es `{(1, 2), (3, 2)}`, lo que significa que el sapo azul en la posición 1 o la rana roja en la posición 3 pueden intercambiar lugares con el espacio en blanco en posición 2.\n",
        "\n",
        "![](images/ToadsAndFrogs.png)"
      ]
    },
    {
      "cell_type": "code",
      "execution_count": 101,
      "metadata": {
        "id": "lKwlWN58JlHn"
      },
      "outputs": [],
      "source": [
        "class JumpingPuzzle(Problem):\n",
        "    \"\"\"Try to exchange L and R by moving one ahead or hopping two ahead.\"\"\"\n",
        "    def __init__(self, N=2):\n",
        "        self.initial = N*'L' + '.' + N*'R'\n",
        "        self.goal = self.initial[::-1]\n",
        "\n",
        "    def actions(self, state):\n",
        "        \"\"\"Find all possible move or hop moves.\"\"\"\n",
        "        idxs = range(len(state))\n",
        "        return ({(i, i + 1) for i in idxs if state[i:i+2] == 'L.'}   # Slide\n",
        "               |{(i, i + 2) for i in idxs if state[i:i+3] == 'LR.'}  # Hop\n",
        "               |{(i + 1, i) for i in idxs if state[i:i+2] == '.R'}   # Slide\n",
        "               |{(i + 2, i) for i in idxs if state[i:i+3] == '.LR'}) # Hop\n",
        "\n",
        "    def result(self, state, action):\n",
        "        \"\"\"An action (i, j) means swap the pieces at positions i and j.\"\"\"\n",
        "        i, j = action\n",
        "        result = list(state)\n",
        "        result[i], result[j] = state[j], state[i]\n",
        "        return ''.join(result)\n",
        "\n",
        "    def h(self, node): return hamming_distance(node.state, self.goal)"
      ]
    },
    {
      "cell_type": "code",
      "execution_count": 102,
      "metadata": {
        "colab": {
          "base_uri": "https://localhost:8080/"
        },
        "id": "ZNF0CVVkJlHn",
        "outputId": "70fd9b15-b79f-4dd7-f6e0-ade6ddd34f39"
      },
      "outputs": [
        {
          "data": {
            "text/plain": [
              "{(1, 2), (3, 2)}"
            ]
          },
          "execution_count": 102,
          "metadata": {},
          "output_type": "execute_result"
        }
      ],
      "source": [
        "JumpingPuzzle(N=2).actions('LL.RR')"
      ]
    },
    {
      "cell_type": "code",
      "execution_count": 103,
      "metadata": {
        "colab": {
          "base_uri": "https://localhost:8080/"
        },
        "id": "GiOlJ8JtJlHn",
        "outputId": "6074323d-7ee5-422d-ec50-d0e2af95bde1"
      },
      "outputs": [
        {
          "data": {
            "text/plain": [
              "['LLL.RRR',\n",
              " 'LLLR.RR',\n",
              " 'LL.RLRR',\n",
              " 'L.LRLRR',\n",
              " 'LRL.LRR',\n",
              " 'LRLRL.R',\n",
              " 'LRLRLR.',\n",
              " 'LRLR.RL',\n",
              " 'LR.RLRL',\n",
              " '.RLRLRL',\n",
              " 'R.LRLRL',\n",
              " 'RRL.LRL',\n",
              " 'RRLRL.L',\n",
              " 'RRLR.LL',\n",
              " 'RR.RLLL',\n",
              " 'RRR.LLL']"
            ]
          },
          "execution_count": 103,
          "metadata": {},
          "output_type": "execute_result"
        }
      ],
      "source": [
        "j3 = JumpingPuzzle(N=3)\n",
        "j9 = JumpingPuzzle(N=9)\n",
        "path_states(astar_search(j3))"
      ]
    },
    {
      "cell_type": "markdown",
      "metadata": {
        "id": "yn8cxCeuJlHn"
      },
      "source": [
        "# Pancake Sorting Problems\n",
        "\n",
        "Dada una pila de pancakes de varios tamaños, ¿puedes ordenarlos en una pila de tamaños decrecientes, del más grande en la parte inferior al más pequeño en la parte superior? Tienes una espátula con la que puedes voltear los `i` pancakes de arriba. Esto se muestra a continuación para `i = 3`; en la parte superior, la espátula agarra los primeros tres pancakes; en la parte inferior los vemos volteados:\n",
        "\n",
        "![](images/Pancake_sort_operation.png)\n",
        "\n",
        "¿Cuántas vueltas se necesitarán para ordenar toda la pila? Este es un problema interesante sobre el que Bill Gates ha [escrito](https://people.eecs.berkeley.edu/~christos/papers/Bounds%20For%20Sorting%20By%20Prefix%20Reversal.pdf). Una heurística razonable para este problema es la *gap heuristic*: si observamos panqueques vecinos, por ejemplo, el segundo más pequeño está al lado del tercero más pequeño, está bien; deben permanecer uno al lado del otro. Pero si el 2º más pequeño está al lado del 4º más pequeño, eso es malo: necesitaremos al menos un movimiento para separarlos e insertar el 3º más pequeño entre ellos. La heurística cuenta el número de vecinos que tienen una brecha como esta. En nuestra especificación del problema, los panqueques se clasifican por tamaño: el más pequeño es \"1\", el segundo más pequeño es \"2\", y así sucesivamente, y la representación de un estado es una tupla de estas clasificaciones, de arriba hacia abajo. Por lo tanto, el estado objetivo siempre es `(1, 2, ..., `*n*`)` y el estado inicial (superior) en el diagrama anterior es `(2, 1, 4, 6, 3, 5)` .\n"
      ]
    },
    {
      "cell_type": "code",
      "execution_count": 143,
      "metadata": {
        "id": "NlnZOUS9JlHo"
      },
      "outputs": [],
      "source": [
        "class PancakeProblem(Problem):\n",
        "    \"\"\"A PancakeProblem the goal is always `tuple(range(1, n+1))`, where the\n",
        "    initial state is a permutation of `range(1, n+1)`. An act is the index `i`\n",
        "    of the top `i` pancakes that will be flipped.\"\"\"\n",
        "\n",
        "    def __init__(self, initial):\n",
        "        self.initial, self.goal = tuple(initial), tuple(sorted(initial))\n",
        "\n",
        "    def actions(self, state): # TODO: Your code here!!!\n",
        "        n=len(state)\n",
        "        return tuple(range(2,n+1))\n",
        "    \n",
        "    def invert(self,state,i):\n",
        "        answer=[state[e] for e in range(0,i)]\n",
        "        return list(reversed(answer))\n",
        "        \n",
        "    def result(self, state, i): # TODO: Your code here!!!\n",
        "        state_list=list(state)\n",
        "        second_part=[state_list[element] for element in range(i,len(state_list))]\n",
        "        first_part=self.invert(state_list,i)\n",
        "        answer=first_part+second_part\n",
        "        return tuple(answer)\n",
        "\n",
        "    # def h(self, node): return self.gap_h(node)\n",
        "    def h(self, node): return self.inversion_count_h(node)\n",
        "\n",
        "\n",
        "    def gap_h(self, node):\n",
        "        \"\"\"The Gap Heuristic. Para cada pancake en la posicion i si la diferencia al siguiente pancake es 1 la cuento\"\"\"\n",
        "        answer=0\n",
        "        for n in range(0,len(node.state)-1):\n",
        "            if node.state[n+1]-node.state[n] == 1:\n",
        "                answer=answer+1\n",
        "        return answer\n",
        "\n",
        "    def inversion_count_h(self, node):\n",
        "        \"\"\"Inversion Count Heuristic.\"\"\"\n",
        "        inversion_count = 0\n",
        "        for i in range(len(node.state) - 1):\n",
        "            for j in range(i + 1, len(node.state)):\n",
        "                if node.state[i] > node.state[j]:\n",
        "                    inversion_count += 1\n",
        "        return inversion_count"
      ]
    },
    {
      "cell_type": "code",
      "execution_count": 144,
      "metadata": {
        "id": "_nrQcd3XJlHo"
      },
      "outputs": [],
      "source": [
        "c0 = PancakeProblem((2, 1, 4, 6, 3, 5))\n",
        "c1 = PancakeProblem((4, 6, 2, 5, 1, 3))\n",
        "c2 = PancakeProblem((1, 3, 7, 5, 2, 6, 4))\n",
        "c3 = PancakeProblem((1, 7, 2, 6, 3, 5, 4))\n",
        "c4 = PancakeProblem((1, 3, 5, 7, 9, 2, 4, 6, 8))"
      ]
    },
    {
      "cell_type": "code",
      "execution_count": 145,
      "metadata": {
        "colab": {
          "base_uri": "https://localhost:8080/",
          "height": 369
        },
        "id": "8cFHlvqMJlHo",
        "outputId": "83b5415f-80a8-4cc2-bbf6-0ed69ffb921c"
      },
      "outputs": [
        {
          "name": "stdout",
          "output_type": "stream",
          "text": [
            "c0=PancakeProblem((2, 1, 4, 6, 3, 5))using A*\n"
          ]
        },
        {
          "data": {
            "text/plain": [
              "([4, 6, 5, 4, 3],\n",
              " [(2, 1, 4, 6, 3, 5),\n",
              "  (6, 4, 1, 2, 3, 5),\n",
              "  (5, 3, 2, 1, 4, 6),\n",
              "  (4, 1, 2, 3, 5, 6),\n",
              "  (3, 2, 1, 4, 5, 6),\n",
              "  (1, 2, 3, 4, 5, 6)])"
            ]
          },
          "execution_count": 145,
          "metadata": {},
          "output_type": "execute_result"
        }
      ],
      "source": [
        "# Solve a pancake problem using A*\n",
        "print(\"c0=PancakeProblem((2, 1, 4, 6, 3, 5))using A*\")\n",
        "sln = astar_search(c0)\n",
        "path_actions(sln), path_states(astar_search(c0))\n"
      ]
    },
    {
      "cell_type": "code",
      "execution_count": 129,
      "metadata": {},
      "outputs": [
        {
          "name": "stdout",
          "output_type": "stream",
          "text": [
            "c1 = PancakeProblem((4, 6, 2, 5, 1, 3)),using A*\n"
          ]
        },
        {
          "data": {
            "text/plain": [
              "([5, 6, 3, 4, 5, 2, 6],\n",
              " [(4, 6, 2, 5, 1, 3),\n",
              "  (1, 5, 2, 6, 4, 3),\n",
              "  (3, 4, 6, 2, 5, 1),\n",
              "  (6, 4, 3, 2, 5, 1),\n",
              "  (2, 3, 4, 6, 5, 1),\n",
              "  (5, 6, 4, 3, 2, 1),\n",
              "  (6, 5, 4, 3, 2, 1),\n",
              "  (1, 2, 3, 4, 5, 6)])"
            ]
          },
          "execution_count": 129,
          "metadata": {},
          "output_type": "execute_result"
        }
      ],
      "source": [
        "print(\"c1 = PancakeProblem((4, 6, 2, 5, 1, 3)),using A*\")\n",
        "sln = astar_search(c1)\n",
        "path_actions(sln), path_states(astar_search(c1))\n"
      ]
    },
    {
      "cell_type": "code",
      "execution_count": 108,
      "metadata": {},
      "outputs": [
        {
          "name": "stdout",
          "output_type": "stream",
          "text": [
            "c2 = PancakeProblem((1, 3, 7, 5, 2, 6, 4)),using A*\n"
          ]
        },
        {
          "data": {
            "text/plain": [
              "([7, 5, 3, 6, 5, 3, 2, 7],\n",
              " [(1, 3, 7, 5, 2, 6, 4),\n",
              "  (4, 6, 2, 5, 7, 3, 1),\n",
              "  (7, 5, 2, 6, 4, 3, 1),\n",
              "  (2, 5, 7, 6, 4, 3, 1),\n",
              "  (3, 4, 6, 7, 5, 2, 1),\n",
              "  (5, 7, 6, 4, 3, 2, 1),\n",
              "  (6, 7, 5, 4, 3, 2, 1),\n",
              "  (7, 6, 5, 4, 3, 2, 1),\n",
              "  (1, 2, 3, 4, 5, 6, 7)])"
            ]
          },
          "execution_count": 108,
          "metadata": {},
          "output_type": "execute_result"
        }
      ],
      "source": [
        "print(\"c2 = PancakeProblem((1, 3, 7, 5, 2, 6, 4)),using A*\")\n",
        "sln = astar_search(c2)\n",
        "path_actions(sln), path_states(astar_search(c2))\n"
      ]
    },
    {
      "cell_type": "code",
      "execution_count": 109,
      "metadata": {},
      "outputs": [
        {
          "name": "stdout",
          "output_type": "stream",
          "text": [
            "c3 = PancakeProblem((1, 7, 2, 6, 3, 5, 4)),using A*\n"
          ]
        },
        {
          "data": {
            "text/plain": [
              "([2, 7, 2, 3, 4, 6],\n",
              " [(1, 7, 2, 6, 3, 5, 4),\n",
              "  (7, 1, 2, 6, 3, 5, 4),\n",
              "  (4, 5, 3, 6, 2, 1, 7),\n",
              "  (5, 4, 3, 6, 2, 1, 7),\n",
              "  (3, 4, 5, 6, 2, 1, 7),\n",
              "  (6, 5, 4, 3, 2, 1, 7),\n",
              "  (1, 2, 3, 4, 5, 6, 7)])"
            ]
          },
          "execution_count": 109,
          "metadata": {},
          "output_type": "execute_result"
        }
      ],
      "source": [
        "print(\"c3 = PancakeProblem((1, 7, 2, 6, 3, 5, 4)),using A*\")\n",
        "sln = astar_search(c3)\n",
        "path_actions(sln), path_states(astar_search(c3))\n"
      ]
    },
    {
      "cell_type": "code",
      "execution_count": 110,
      "metadata": {},
      "outputs": [
        {
          "name": "stdout",
          "output_type": "stream",
          "text": [
            "c4 = PancakeProblem((1, 3, 5, 7, 9, 2, 4, 6, 8)),using A*\n"
          ]
        },
        {
          "data": {
            "text/plain": [
              "([5, 9, 8, 7, 6, 5, 4, 3, 2],\n",
              " [(1, 3, 5, 7, 9, 2, 4, 6, 8),\n",
              "  (9, 7, 5, 3, 1, 2, 4, 6, 8),\n",
              "  (8, 6, 4, 2, 1, 3, 5, 7, 9),\n",
              "  (7, 5, 3, 1, 2, 4, 6, 8, 9),\n",
              "  (6, 4, 2, 1, 3, 5, 7, 8, 9),\n",
              "  (5, 3, 1, 2, 4, 6, 7, 8, 9),\n",
              "  (4, 2, 1, 3, 5, 6, 7, 8, 9),\n",
              "  (3, 1, 2, 4, 5, 6, 7, 8, 9),\n",
              "  (2, 1, 3, 4, 5, 6, 7, 8, 9),\n",
              "  (1, 2, 3, 4, 5, 6, 7, 8, 9)])"
            ]
          },
          "execution_count": 110,
          "metadata": {},
          "output_type": "execute_result"
        }
      ],
      "source": [
        "print(\"c4 = PancakeProblem((1, 3, 5, 7, 9, 2, 4, 6, 8)),using A*\")\n",
        "sln = astar_search(c4)\n",
        "path_actions(sln), path_states(astar_search(c4))"
      ]
    },
    {
      "cell_type": "code",
      "execution_count": 111,
      "metadata": {},
      "outputs": [
        {
          "name": "stdout",
          "output_type": "stream",
          "text": [
            "c0=PancakeProblem((2, 1, 4, 6, 3, 5))using BFS\n"
          ]
        },
        {
          "data": {
            "text/plain": [
              "([4, 6, 5, 4, 3],\n",
              " [(2, 1, 4, 6, 3, 5),\n",
              "  (6, 4, 1, 2, 3, 5),\n",
              "  (5, 3, 2, 1, 4, 6),\n",
              "  (4, 1, 2, 3, 5, 6),\n",
              "  (3, 2, 1, 4, 5, 6),\n",
              "  (1, 2, 3, 4, 5, 6)])"
            ]
          },
          "execution_count": 111,
          "metadata": {},
          "output_type": "execute_result"
        }
      ],
      "source": [
        "# Solve a pancake problem BFS\n",
        "print(\"c0=PancakeProblem((2, 1, 4, 6, 3, 5))using BFS\")\n",
        "soln = breadth_first_search(c0)\n",
        "path_actions(soln), path_states(soln)"
      ]
    },
    {
      "cell_type": "code",
      "execution_count": 112,
      "metadata": {},
      "outputs": [
        {
          "name": "stdout",
          "output_type": "stream",
          "text": [
            "c1 = PancakeProblem((4, 6, 2, 5, 1, 3)),using BFS\n"
          ]
        },
        {
          "data": {
            "text/plain": [
              "([2, 3, 4, 2, 6, 3, 2],\n",
              " [(4, 6, 2, 5, 1, 3),\n",
              "  (6, 4, 2, 5, 1, 3),\n",
              "  (2, 4, 6, 5, 1, 3),\n",
              "  (5, 6, 4, 2, 1, 3),\n",
              "  (6, 5, 4, 2, 1, 3),\n",
              "  (3, 1, 2, 4, 5, 6),\n",
              "  (2, 1, 3, 4, 5, 6),\n",
              "  (1, 2, 3, 4, 5, 6)])"
            ]
          },
          "execution_count": 112,
          "metadata": {},
          "output_type": "execute_result"
        }
      ],
      "source": [
        "print(\"c1 = PancakeProblem((4, 6, 2, 5, 1, 3)),using BFS\")\n",
        "soln = breadth_first_search(c1)\n",
        "path_actions(soln), path_states(soln)"
      ]
    },
    {
      "cell_type": "code",
      "execution_count": 113,
      "metadata": {},
      "outputs": [
        {
          "name": "stdout",
          "output_type": "stream",
          "text": [
            "c2 = PancakeProblem((1, 3, 7, 5, 2, 6, 4)),using BFS\n"
          ]
        },
        {
          "data": {
            "text/plain": [
              "([2, 6, 3, 2, 4, 7, 4, 2],\n",
              " [(1, 3, 7, 5, 2, 6, 4),\n",
              "  (3, 1, 7, 5, 2, 6, 4),\n",
              "  (6, 2, 5, 7, 1, 3, 4),\n",
              "  (5, 2, 6, 7, 1, 3, 4),\n",
              "  (2, 5, 6, 7, 1, 3, 4),\n",
              "  (7, 6, 5, 2, 1, 3, 4),\n",
              "  (4, 3, 1, 2, 5, 6, 7),\n",
              "  (2, 1, 3, 4, 5, 6, 7),\n",
              "  (1, 2, 3, 4, 5, 6, 7)])"
            ]
          },
          "execution_count": 113,
          "metadata": {},
          "output_type": "execute_result"
        }
      ],
      "source": [
        "print(\"c2 = PancakeProblem((1, 3, 7, 5, 2, 6, 4)),using BFS\")\n",
        "soln = breadth_first_search(c2)\n",
        "path_actions(soln), path_states(soln)"
      ]
    },
    {
      "cell_type": "code",
      "execution_count": 114,
      "metadata": {},
      "outputs": [
        {
          "name": "stdout",
          "output_type": "stream",
          "text": [
            "c3 = PancakeProblem((1, 7, 2, 6, 3, 5, 4)),using BFS\n"
          ]
        },
        {
          "data": {
            "text/plain": [
              "([2, 7, 2, 3, 4, 6],\n",
              " [(1, 7, 2, 6, 3, 5, 4),\n",
              "  (7, 1, 2, 6, 3, 5, 4),\n",
              "  (4, 5, 3, 6, 2, 1, 7),\n",
              "  (5, 4, 3, 6, 2, 1, 7),\n",
              "  (3, 4, 5, 6, 2, 1, 7),\n",
              "  (6, 5, 4, 3, 2, 1, 7),\n",
              "  (1, 2, 3, 4, 5, 6, 7)])"
            ]
          },
          "execution_count": 114,
          "metadata": {},
          "output_type": "execute_result"
        }
      ],
      "source": [
        "print(\"c3 = PancakeProblem((1, 7, 2, 6, 3, 5, 4)),using BFS\")\n",
        "soln = breadth_first_search(c3)\n",
        "path_actions(soln), path_states(soln)"
      ]
    },
    {
      "cell_type": "code",
      "execution_count": 115,
      "metadata": {},
      "outputs": [
        {
          "name": "stdout",
          "output_type": "stream",
          "text": [
            "c4 = PancakeProblem((1, 3, 5, 7, 9, 2, 4, 6, 8)),using BFS\n"
          ]
        },
        {
          "data": {
            "text/plain": [
              "([5, 9, 8, 7, 6, 5, 4, 3, 2],\n",
              " [(1, 3, 5, 7, 9, 2, 4, 6, 8),\n",
              "  (9, 7, 5, 3, 1, 2, 4, 6, 8),\n",
              "  (8, 6, 4, 2, 1, 3, 5, 7, 9),\n",
              "  (7, 5, 3, 1, 2, 4, 6, 8, 9),\n",
              "  (6, 4, 2, 1, 3, 5, 7, 8, 9),\n",
              "  (5, 3, 1, 2, 4, 6, 7, 8, 9),\n",
              "  (4, 2, 1, 3, 5, 6, 7, 8, 9),\n",
              "  (3, 1, 2, 4, 5, 6, 7, 8, 9),\n",
              "  (2, 1, 3, 4, 5, 6, 7, 8, 9),\n",
              "  (1, 2, 3, 4, 5, 6, 7, 8, 9)])"
            ]
          },
          "execution_count": 115,
          "metadata": {},
          "output_type": "execute_result"
        }
      ],
      "source": [
        "print(\"c4 = PancakeProblem((1, 3, 5, 7, 9, 2, 4, 6, 8)),using BFS\")\n",
        "soln = breadth_first_search(c4)\n",
        "path_actions(soln), path_states(soln)"
      ]
    },
    {
      "cell_type": "code",
      "execution_count": 116,
      "metadata": {},
      "outputs": [
        {
          "name": "stdout",
          "output_type": "stream",
          "text": [
            "c0=PancakeProblem((2, 1, 4, 6, 3, 5))using greedy_bfs\n"
          ]
        },
        {
          "data": {
            "text/plain": [
              "([4, 6, 5, 4, 3],\n",
              " [(2, 1, 4, 6, 3, 5),\n",
              "  (6, 4, 1, 2, 3, 5),\n",
              "  (5, 3, 2, 1, 4, 6),\n",
              "  (4, 1, 2, 3, 5, 6),\n",
              "  (3, 2, 1, 4, 5, 6),\n",
              "  (1, 2, 3, 4, 5, 6)])"
            ]
          },
          "execution_count": 116,
          "metadata": {},
          "output_type": "execute_result"
        }
      ],
      "source": [
        "print(\"c0=PancakeProblem((2, 1, 4, 6, 3, 5))using greedy_bfs\")\n",
        "soll=greedy_bfs(c0)\n",
        "path_actions(soll), path_states(soll)\n"
      ]
    },
    {
      "cell_type": "code",
      "execution_count": 117,
      "metadata": {},
      "outputs": [
        {
          "name": "stdout",
          "output_type": "stream",
          "text": [
            "c1 = PancakeProblem((4, 6, 2, 5, 1, 3)),using greedy_bfs\n"
          ]
        },
        {
          "data": {
            "text/plain": [
              "([5, 6, 3, 4, 5, 2, 6],\n",
              " [(4, 6, 2, 5, 1, 3),\n",
              "  (1, 5, 2, 6, 4, 3),\n",
              "  (3, 4, 6, 2, 5, 1),\n",
              "  (6, 4, 3, 2, 5, 1),\n",
              "  (2, 3, 4, 6, 5, 1),\n",
              "  (5, 6, 4, 3, 2, 1),\n",
              "  (6, 5, 4, 3, 2, 1),\n",
              "  (1, 2, 3, 4, 5, 6)])"
            ]
          },
          "execution_count": 117,
          "metadata": {},
          "output_type": "execute_result"
        }
      ],
      "source": [
        "print(\"c1 = PancakeProblem((4, 6, 2, 5, 1, 3)),using greedy_bfs\")\n",
        "soll=greedy_bfs(c1)\n",
        "path_actions(soll), path_states(soll)"
      ]
    },
    {
      "cell_type": "code",
      "execution_count": 118,
      "metadata": {},
      "outputs": [
        {
          "name": "stdout",
          "output_type": "stream",
          "text": [
            "c2 = PancakeProblem((1, 3, 7, 5, 2, 6, 4)),using greedy_bfs\n"
          ]
        },
        {
          "data": {
            "text/plain": [
              "([7, 5, 3, 6, 5, 3, 2, 7],\n",
              " [(1, 3, 7, 5, 2, 6, 4),\n",
              "  (4, 6, 2, 5, 7, 3, 1),\n",
              "  (7, 5, 2, 6, 4, 3, 1),\n",
              "  (2, 5, 7, 6, 4, 3, 1),\n",
              "  (3, 4, 6, 7, 5, 2, 1),\n",
              "  (5, 7, 6, 4, 3, 2, 1),\n",
              "  (6, 7, 5, 4, 3, 2, 1),\n",
              "  (7, 6, 5, 4, 3, 2, 1),\n",
              "  (1, 2, 3, 4, 5, 6, 7)])"
            ]
          },
          "execution_count": 118,
          "metadata": {},
          "output_type": "execute_result"
        }
      ],
      "source": [
        "print(\"c2 = PancakeProblem((1, 3, 7, 5, 2, 6, 4)),using greedy_bfs\")\n",
        "soll=greedy_bfs(c2)\n",
        "path_actions(soll), path_states(soll)"
      ]
    },
    {
      "cell_type": "code",
      "execution_count": 119,
      "metadata": {},
      "outputs": [
        {
          "name": "stdout",
          "output_type": "stream",
          "text": [
            "c3 = PancakeProblem((1, 7, 2, 6, 3, 5, 4)),using greedy_bfs\n"
          ]
        },
        {
          "data": {
            "text/plain": [
              "([2, 7, 2, 3, 4, 6],\n",
              " [(1, 7, 2, 6, 3, 5, 4),\n",
              "  (7, 1, 2, 6, 3, 5, 4),\n",
              "  (4, 5, 3, 6, 2, 1, 7),\n",
              "  (5, 4, 3, 6, 2, 1, 7),\n",
              "  (3, 4, 5, 6, 2, 1, 7),\n",
              "  (6, 5, 4, 3, 2, 1, 7),\n",
              "  (1, 2, 3, 4, 5, 6, 7)])"
            ]
          },
          "execution_count": 119,
          "metadata": {},
          "output_type": "execute_result"
        }
      ],
      "source": [
        "print(\"c3 = PancakeProblem((1, 7, 2, 6, 3, 5, 4)),using greedy_bfs\")\n",
        "soll=greedy_bfs(c3)\n",
        "path_actions(soll), path_states(soll)"
      ]
    },
    {
      "cell_type": "code",
      "execution_count": 120,
      "metadata": {},
      "outputs": [
        {
          "name": "stdout",
          "output_type": "stream",
          "text": [
            "c4 = PancakeProblem((1, 3, 5, 7, 9, 2, 4, 6, 8)),using greedy_bfs\n"
          ]
        },
        {
          "data": {
            "text/plain": [
              "([5, 9, 8, 7, 6, 5, 4, 3, 2],\n",
              " [(1, 3, 5, 7, 9, 2, 4, 6, 8),\n",
              "  (9, 7, 5, 3, 1, 2, 4, 6, 8),\n",
              "  (8, 6, 4, 2, 1, 3, 5, 7, 9),\n",
              "  (7, 5, 3, 1, 2, 4, 6, 8, 9),\n",
              "  (6, 4, 2, 1, 3, 5, 7, 8, 9),\n",
              "  (5, 3, 1, 2, 4, 6, 7, 8, 9),\n",
              "  (4, 2, 1, 3, 5, 6, 7, 8, 9),\n",
              "  (3, 1, 2, 4, 5, 6, 7, 8, 9),\n",
              "  (2, 1, 3, 4, 5, 6, 7, 8, 9),\n",
              "  (1, 2, 3, 4, 5, 6, 7, 8, 9)])"
            ]
          },
          "execution_count": 120,
          "metadata": {},
          "output_type": "execute_result"
        }
      ],
      "source": [
        "print(\"c4 = PancakeProblem((1, 3, 5, 7, 9, 2, 4, 6, 8)),using greedy_bfs\")\n",
        "soll=greedy_bfs(c4)\n",
        "path_actions(soll), path_states(soll)"
      ]
    },
    {
      "cell_type": "markdown",
      "metadata": {
        "id": "E6_ghMBzJlHo"
      },
      "source": [
        "# Análisis de Algoritmos de Búsqueda\n",
        "\n",
        "Usaremos `CountCalls` para envolver el objeto `Problem` de tal manera que las llamadas a sus métodos se deleguen al problema original, pero cada llamada incrementa un contador. Una vez que hemos resuelto el problema, imprimimos un resumen estadísticas."
      ]
    },
    {
      "cell_type": "code",
      "execution_count": 121,
      "metadata": {
        "id": "KWu7McaOJlHo"
      },
      "outputs": [],
      "source": [
        "class CountCalls:\n",
        "    \"\"\"Delegate all attribute gets to the object, and count them in ._counts\"\"\"\n",
        "    def __init__(self, obj):\n",
        "        self._object = obj\n",
        "        self._counts = Counter()\n",
        "\n",
        "    def __getattr__(self, attr):\n",
        "        \"Delegate to the original object, after incrementing a counter.\"\n",
        "        self._counts[attr] += 1\n",
        "        return getattr(self._object, attr)\n",
        "\n",
        "\n",
        "def report(searchers, problems, verbose=True):\n",
        "    \"\"\"Show summary statistics for each searcher (and on each problem unless verbose is false).\"\"\"\n",
        "    for searcher in searchers:\n",
        "        print(searcher.__name__ + ':')\n",
        "        total_counts = Counter()\n",
        "        for p in problems:\n",
        "            prob   = CountCalls(p)\n",
        "            soln   = searcher(prob)\n",
        "            counts = prob._counts;\n",
        "            counts.update(actions=len(soln), cost=soln.path_cost)\n",
        "            total_counts += counts\n",
        "            if verbose: report_counts(counts, str(p)[:40])\n",
        "        report_counts(total_counts, 'TOTAL\\n')\n",
        "\n",
        "def report_counts(counts, name):\n",
        "    \"\"\"Print one line of the counts report.\"\"\"\n",
        "    print('{:9,d} nodes |{:9,d} goal |{:5.0f} cost |{:8,d} actions | {}'.format(\n",
        "          counts['result'], counts['is_goal'], counts['cost'], counts['actions'], name))"
      ]
    },
    {
      "cell_type": "markdown",
      "metadata": {
        "id": "GpkaI-qbJlHp"
      },
      "source": [
        "Aquí hay un pequeño informe para uniform-cost search en water pouring problems:"
      ]
    },
    {
      "cell_type": "code",
      "execution_count": 122,
      "metadata": {
        "id": "g8xnBPbFJlHp"
      },
      "outputs": [
        {
          "name": "stdout",
          "output_type": "stream",
          "text": [
            "uniform_cost_search:\n",
            "      948 nodes |      109 goal |    4 cost |     112 actions | PourProblem((1, 1, 1), 13)\n",
            "    3,499 nodes |      389 goal |    9 cost |     397 actions | PourProblem((0, 0, 0), 21)\n",
            "      124 nodes |       30 goal |   14 cost |      43 actions | PourProblem((0, 0), 8)\n",
            "    3,499 nodes |      389 goal |    9 cost |     397 actions | PourProblem((0, 0, 0), 21)\n",
            "       52 nodes |       14 goal |    6 cost |      19 actions | PourProblem((0, 0), 4)\n",
            "    8,122 nodes |      931 goal |   42 cost |     968 actions | TOTAL\n",
            "\n"
          ]
        }
      ],
      "source": [
        "report([uniform_cost_search], [p1, p2, p3, p4, p5])"
      ]
    },
    {
      "cell_type": "code",
      "execution_count": 123,
      "metadata": {
        "id": "hhdutvGlJlHp"
      },
      "outputs": [
        {
          "name": "stdout",
          "output_type": "stream",
          "text": [
            "uniform_cost_search:\n",
            "      948 nodes |      109 goal |    4 cost |     112 actions | PourProblem((1, 1, 1), 13)\n",
            "    3,499 nodes |      389 goal |    9 cost |     397 actions | PourProblem((0, 0, 0), 21)\n",
            "      124 nodes |       30 goal |   14 cost |      43 actions | PourProblem((0, 0), 8)\n",
            "    3,499 nodes |      389 goal |    9 cost |     397 actions | PourProblem((0, 0, 0), 21)\n",
            "    3,499 nodes |      389 goal |    9 cost |     397 actions | PourProblem((0, 0, 0), 21)\n",
            "    3,590 nodes |      719 goal |    7 cost |     725 actions | PancakeProblem((4, 6, 2, 5, 1, 3), (1, 2\n"
          ]
        },
        {
          "name": "stdout",
          "output_type": "stream",
          "text": [
            "   30,204 nodes |    5,035 goal |    8 cost |   5,042 actions | PancakeProblem((1, 3, 7, 5, 2, 6, 4), (1\n",
            "   22,068 nodes |    3,679 goal |    6 cost |   3,684 actions | PancakeProblem((1, 7, 2, 6, 3, 5, 4), (1\n",
            "   67,431 nodes |   10,739 goal |   66 cost |  10,797 actions | TOTAL\n",
            "\n",
            "breadth_first_search:\n",
            "      596 nodes |      597 goal |    4 cost |      73 actions | PourProblem((1, 1, 1), 13)\n",
            "    2,618 nodes |    2,619 goal |    9 cost |     302 actions | PourProblem((0, 0, 0), 21)\n",
            "      120 nodes |      121 goal |   14 cost |      42 actions | PourProblem((0, 0), 8)\n",
            "    2,618 nodes |    2,619 goal |    9 cost |     302 actions | PourProblem((0, 0, 0), 21)\n",
            "    2,618 nodes |    2,619 goal |    9 cost |     302 actions | PourProblem((0, 0, 0), 21)\n",
            "    2,951 nodes |    2,952 goal |    7 cost |     598 actions | PancakeProblem((4, 6, 2, 5, 1, 3), (1, 2\n",
            "   25,945 nodes |   25,946 goal |    8 cost |   4,333 actions | PancakeProblem((1, 3, 7, 5, 2, 6, 4), (1\n",
            "    5,975 nodes |    5,976 goal |    6 cost |   1,002 actions | PancakeProblem((1, 7, 2, 6, 3, 5, 4), (1\n",
            "   43,441 nodes |   43,449 goal |   66 cost |   6,954 actions | TOTAL\n",
            "\n"
          ]
        }
      ],
      "source": [
        "report((uniform_cost_search, breadth_first_search),\n",
        "       (p1, p2, p3, p4, p4, c1, c2, c3))"
      ]
    },
    {
      "cell_type": "markdown",
      "metadata": {
        "id": "1nxhyAviJlHp"
      },
      "source": [
        "# Comparación de heurísticas\n",
        "\n",
        "Veamos el eight puzzle problem y comparemos tres heurísticas diferentes: la heurística de Manhattan, la heurística de piezas fuera de lugar menos informativa y la búsqueda desinformada (es decir, *h* = 0) breadth-first search:"
      ]
    },
    {
      "cell_type": "code",
      "execution_count": 124,
      "metadata": {
        "id": "hUSc2OwXJlHp"
      },
      "outputs": [
        {
          "name": "stdout",
          "output_type": "stream",
          "text": [
            "breadth_first_search:\n",
            "       81 nodes |       82 goal |    5 cost |      35 actions | EightPuzzle((1, 4, 2, 0, 7, 5, 3, 6, 8),\n"
          ]
        },
        {
          "name": "stdout",
          "output_type": "stream",
          "text": [
            "  160,948 nodes |  160,949 goal |   22 cost |  59,960 actions | EightPuzzle((1, 2, 3, 4, 5, 6, 7, 8, 0),\n",
            "  218,263 nodes |  218,264 goal |   23 cost |  81,829 actions | EightPuzzle((4, 0, 2, 5, 1, 3, 7, 8, 6),\n",
            "  418,771 nodes |  418,772 goal |   26 cost | 156,533 actions | EightPuzzle((7, 2, 4, 5, 0, 6, 8, 3, 1),\n",
            "  448,667 nodes |  448,668 goal |   27 cost | 167,799 actions | EightPuzzle((8, 6, 7, 2, 5, 4, 3, 0, 1),\n",
            "1,246,730 nodes |1,246,735 goal |  103 cost | 466,156 actions | TOTAL\n",
            "\n",
            "astar_misplaced_tiles:\n",
            "       17 nodes |        7 goal |    5 cost |      11 actions | EightPuzzle((1, 4, 2, 0, 7, 5, 3, 6, 8),\n",
            "   23,407 nodes |    8,726 goal |   22 cost |   8,747 actions | EightPuzzle((1, 2, 3, 4, 5, 6, 7, 8, 0),\n",
            "   38,632 nodes |   14,433 goal |   23 cost |  14,455 actions | EightPuzzle((4, 0, 2, 5, 1, 3, 7, 8, 6),\n",
            "  124,324 nodes |   46,553 goal |   26 cost |  46,578 actions | EightPuzzle((7, 2, 4, 5, 0, 6, 8, 3, 1),\n",
            "  156,111 nodes |   58,475 goal |   27 cost |  58,501 actions | EightPuzzle((8, 6, 7, 2, 5, 4, 3, 0, 1),\n",
            "  342,491 nodes |  128,194 goal |  103 cost | 128,292 actions | TOTAL\n",
            "\n",
            "astar_search:\n",
            "       15 nodes |        6 goal |    5 cost |      10 actions | EightPuzzle((1, 4, 2, 0, 7, 5, 3, 6, 8),\n",
            "    3,614 nodes |    1,349 goal |   22 cost |   1,370 actions | EightPuzzle((1, 2, 3, 4, 5, 6, 7, 8, 0),\n",
            "    5,373 nodes |    2,010 goal |   23 cost |   2,032 actions | EightPuzzle((4, 0, 2, 5, 1, 3, 7, 8, 6),\n",
            "   10,832 nodes |    4,086 goal |   26 cost |   4,111 actions | EightPuzzle((7, 2, 4, 5, 0, 6, 8, 3, 1),\n",
            "   11,669 nodes |    4,417 goal |   27 cost |   4,443 actions | EightPuzzle((8, 6, 7, 2, 5, 4, 3, 0, 1),\n",
            "   31,503 nodes |   11,868 goal |  103 cost |  11,966 actions | TOTAL\n",
            "\n"
          ]
        }
      ],
      "source": [
        "def astar_misplaced_tiles(problem): return astar_search(problem, h=problem.h1)\n",
        "\n",
        "report([breadth_first_search, astar_misplaced_tiles, astar_search],\n",
        "       [e1, e2, e3, e4, e5])"
      ]
    },
    {
      "cell_type": "markdown",
      "metadata": {
        "id": "1uSa_GHzJlHq"
      },
      "source": [
        "Vemos que los tres algoritmos obtienen soluciones óptimas, pero cuanto mejor es la heurística, menos nodos se exploran.\n",
        "En comparación con la búsqueda no informada, la heurística de piezas fuera de lugar explora alrededor de 1/4 de la cantidad de nodos, y la heurística de Manhattan necesita solo el 2 %.\n",
        "\n",
        "A continuación, podemos ver el valor de la heurística de brecha para pancake sorting problems:"
      ]
    },
    {
      "cell_type": "code",
      "execution_count": 141,
      "metadata": {
        "id": "qc5wWRjgJlHq"
      },
      "outputs": [
        {
          "name": "stdout",
          "output_type": "stream",
          "text": [
            "astar_inversion:\n",
            "      755 nodes |      152 goal |    8 cost |     159 actions | PancakeProblem((4, 6, 2, 5, 1, 3), (1, 2\n",
            "    2,922 nodes |      488 goal |   10 cost |     497 actions | PancakeProblem((1, 3, 7, 5, 2, 6, 4), (1\n",
            "    2,004 nodes |      335 goal |   11 cost |     345 actions | PancakeProblem((1, 7, 2, 6, 3, 5, 4), (1\n",
            "  152,504 nodes |   19,064 goal |    9 cost |  19,072 actions | PancakeProblem((1, 3, 5, 7, 9, 2, 4, 6, \n",
            "  158,185 nodes |   20,039 goal |   38 cost |  20,073 actions | TOTAL\n",
            "\n",
            "astar_gap:\n",
            "    3,675 nodes |      736 goal |    7 cost |     742 actions | PancakeProblem((4, 6, 2, 5, 1, 3), (1, 2\n",
            "   31,182 nodes |    5,198 goal |    8 cost |   5,205 actions | PancakeProblem((1, 3, 7, 5, 2, 6, 4), (1\n",
            "   31,386 nodes |    5,232 goal |    6 cost |   5,237 actions | PancakeProblem((1, 7, 2, 6, 3, 5, 4), (1\n",
            "3,037,560 nodes |  379,696 goal |    9 cost | 379,704 actions | PancakeProblem((1, 3, 5, 7, 9, 2, 4, 6, \n",
            "3,103,803 nodes |  390,862 goal |   30 cost | 390,888 actions | TOTAL\n",
            "\n",
            "breadth_first_search:\n",
            "    2,951 nodes |    2,952 goal |    7 cost |     598 actions | PancakeProblem((4, 6, 2, 5, 1, 3), (1, 2\n",
            "   25,945 nodes |   25,946 goal |    8 cost |   4,333 actions | PancakeProblem((1, 3, 7, 5, 2, 6, 4), (1\n",
            "    5,975 nodes |    5,976 goal |    6 cost |   1,002 actions | PancakeProblem((1, 7, 2, 6, 3, 5, 4), (1\n",
            "1,915,857 nodes |1,915,858 goal |    9 cost | 239,492 actions | PancakeProblem((1, 3, 5, 7, 9, 2, 4, 6, \n",
            "1,950,728 nodes |1,950,732 goal |   30 cost | 245,425 actions | TOTAL\n",
            "\n"
          ]
        }
      ],
      "source": [
        "def astar_gap(problem): return astar_search(problem, h = problem.gap_h)\n",
        "def astar_inversion(problem): return astar_search(problem, h= problem.inversion_count_h)\n",
        "\n",
        "report([astar_inversion, astar_gap, breadth_first_search], [c1, c2, c3, c4])"
      ]
    },
    {
      "cell_type": "markdown",
      "metadata": {
        "id": "LDyFkWSoJlHq"
      },
      "source": [
        "Necesitamos explorar casi 300 veces más nodos sin la heurística."
      ]
    },
    {
      "cell_type": "markdown",
      "metadata": {
        "id": "KpYmGhZsJlHr"
      },
      "source": [
        "# Comparación de algoritmos de búsqueda"
      ]
    },
    {
      "cell_type": "code",
      "execution_count": 126,
      "metadata": {
        "id": "xUVf-UCUJlHr",
        "tags": []
      },
      "outputs": [
        {
          "name": "stdout",
          "output_type": "stream",
          "text": [
            "astar_search:\n",
            "      948 nodes |      109 goal |    4 cost |     112 actions | PourProblem((1, 1, 1), 13)\n",
            "    3,499 nodes |      389 goal |    9 cost |     397 actions | PourProblem((0, 0, 0), 21)\n",
            "    1,696 nodes |      190 goal |   10 cost |     204 actions | GreenPourProblem((1, 1, 1), 13)\n"
          ]
        },
        {
          "name": "stdout",
          "output_type": "stream",
          "text": [
            "    4,072 nodes |      454 goal |   21 cost |     463 actions | GreenPourProblem((0, 0, 0), 21)\n",
            "       81 nodes |       71 goal |   15 cost |      85 actions | JumpingPuzzle('LLL.RRR', 'RRR.LLL')\n",
            "   10,991 nodes |   10,661 goal |   99 cost |  10,759 actions | JumpingPuzzle('LLLLLLLLL.RRRRRRRRR', 'RR\n",
            "    3,675 nodes |      736 goal |    7 cost |     742 actions | PancakeProblem((4, 6, 2, 5, 1, 3), (1, 2\n",
            "   31,182 nodes |    5,198 goal |    8 cost |   5,205 actions | PancakeProblem((1, 3, 7, 5, 2, 6, 4), (1\n",
            "   56,144 nodes |   17,808 goal |  173 cost |  17,967 actions | TOTAL\n",
            "\n",
            "uniform_cost_search:\n",
            "      948 nodes |      109 goal |    4 cost |     112 actions | PourProblem((1, 1, 1), 13)\n",
            "    3,499 nodes |      389 goal |    9 cost |     397 actions | PourProblem((0, 0, 0), 21)\n",
            "    1,696 nodes |      190 goal |   10 cost |     204 actions | GreenPourProblem((1, 1, 1), 13)\n",
            "    4,072 nodes |      454 goal |   21 cost |     463 actions | GreenPourProblem((0, 0, 0), 21)\n",
            "       82 nodes |       72 goal |   15 cost |      86 actions | JumpingPuzzle('LLL.RRR', 'RRR.LLL')\n",
            "   10,992 nodes |   10,662 goal |   99 cost |  10,760 actions | JumpingPuzzle('LLLLLLLLL.RRRRRRRRR', 'RR\n",
            "    3,590 nodes |      719 goal |    7 cost |     725 actions | PancakeProblem((4, 6, 2, 5, 1, 3), (1, 2\n",
            "   30,204 nodes |    5,035 goal |    8 cost |   5,042 actions | PancakeProblem((1, 3, 7, 5, 2, 6, 4), (1\n",
            "   55,083 nodes |   17,630 goal |  173 cost |  17,789 actions | TOTAL\n",
            "\n",
            "breadth_first_search:\n",
            "      596 nodes |      597 goal |    4 cost |      73 actions | PourProblem((1, 1, 1), 13)\n",
            "    2,618 nodes |    2,619 goal |    9 cost |     302 actions | PourProblem((0, 0, 0), 21)\n",
            "      596 nodes |      597 goal |   15 cost |      73 actions | GreenPourProblem((1, 1, 1), 13)\n",
            "    2,618 nodes |    2,619 goal |   32 cost |     302 actions | GreenPourProblem((0, 0, 0), 21)\n",
            "       81 nodes |       82 goal |   15 cost |      85 actions | JumpingPuzzle('LLL.RRR', 'RRR.LLL')\n",
            "   10,991 nodes |   10,992 goal |   99 cost |  10,759 actions | JumpingPuzzle('LLLLLLLLL.RRRRRRRRR', 'RR\n",
            "    2,951 nodes |    2,952 goal |    7 cost |     598 actions | PancakeProblem((4, 6, 2, 5, 1, 3), (1, 2\n",
            "   25,945 nodes |   25,946 goal |    8 cost |   4,333 actions | PancakeProblem((1, 3, 7, 5, 2, 6, 4), (1\n",
            "   46,396 nodes |   46,404 goal |  189 cost |  16,525 actions | TOTAL\n",
            "\n",
            "breadth_first_bfs:\n",
            "      948 nodes |      109 goal |    4 cost |     112 actions | PourProblem((1, 1, 1), 13)\n",
            "    3,499 nodes |      389 goal |    9 cost |     397 actions | PourProblem((0, 0, 0), 21)\n",
            "    1,062 nodes |      124 goal |   15 cost |     127 actions | GreenPourProblem((1, 1, 1), 13)\n",
            "    3,757 nodes |      420 goal |   24 cost |     428 actions | GreenPourProblem((0, 0, 0), 21)\n",
            "       82 nodes |       72 goal |   15 cost |      86 actions | JumpingPuzzle('LLL.RRR', 'RRR.LLL')\n",
            "   10,992 nodes |   10,662 goal |   99 cost |  10,760 actions | JumpingPuzzle('LLLLLLLLL.RRRRRRRRR', 'RR\n",
            "    3,590 nodes |      719 goal |    7 cost |     725 actions | PancakeProblem((4, 6, 2, 5, 1, 3), (1, 2\n",
            "   30,204 nodes |    5,035 goal |    8 cost |   5,042 actions | PancakeProblem((1, 3, 7, 5, 2, 6, 4), (1\n",
            "   54,134 nodes |   17,530 goal |  181 cost |  17,677 actions | TOTAL\n",
            "\n",
            "iterative_deepening_search:\n",
            "    6,133 nodes |    6,118 goal |    4 cost |     822 actions | PourProblem((1, 1, 1), 13)\n",
            "  288,706 nodes |  288,675 goal |    9 cost |  36,962 actions | PourProblem((0, 0, 0), 21)\n",
            "    6,133 nodes |    6,118 goal |   15 cost |     822 actions | GreenPourProblem((1, 1, 1), 13)\n",
            "  288,706 nodes |  288,675 goal |   62 cost |  36,962 actions | GreenPourProblem((0, 0, 0), 21)\n",
            "      819 nodes |      828 goal |   15 cost |     744 actions | JumpingPuzzle('LLL.RRR', 'RRR.LLL')\n"
          ]
        },
        {
          "ename": "KeyboardInterrupt",
          "evalue": "",
          "output_type": "error",
          "traceback": [
            "\u001b[1;31m---------------------------------------------------------------------------\u001b[0m",
            "\u001b[1;31mKeyboardInterrupt\u001b[0m                         Traceback (most recent call last)",
            "Cell \u001b[1;32mIn[126], line 1\u001b[0m\n\u001b[1;32m----> 1\u001b[0m \u001b[43mreport\u001b[49m\u001b[43m(\u001b[49m\u001b[43m(\u001b[49m\u001b[43mastar_search\u001b[49m\u001b[43m,\u001b[49m\u001b[43m \u001b[49m\u001b[43muniform_cost_search\u001b[49m\u001b[43m,\u001b[49m\u001b[43m  \u001b[49m\u001b[43mbreadth_first_search\u001b[49m\u001b[43m,\u001b[49m\u001b[43m \u001b[49m\u001b[43mbreadth_first_bfs\u001b[49m\u001b[43m,\u001b[49m\n\u001b[0;32m      2\u001b[0m \u001b[43m        \u001b[49m\u001b[43miterative_deepening_search\u001b[49m\u001b[43m,\u001b[49m\u001b[43m \u001b[49m\u001b[43mdepth_limited_search\u001b[49m\u001b[43m,\u001b[49m\u001b[43m \u001b[49m\u001b[43mgreedy_bfs\u001b[49m\u001b[43m,\u001b[49m\n\u001b[0;32m      3\u001b[0m \u001b[43m        \u001b[49m\u001b[43mweighted_astar_search\u001b[49m\u001b[43m)\u001b[49m\u001b[43m,\u001b[49m\n\u001b[0;32m      4\u001b[0m \u001b[43m       \u001b[49m\u001b[43m(\u001b[49m\u001b[43mp1\u001b[49m\u001b[43m,\u001b[49m\u001b[43m \u001b[49m\u001b[43mp2\u001b[49m\u001b[43m,\u001b[49m\u001b[43m \u001b[49m\u001b[43mg1\u001b[49m\u001b[43m,\u001b[49m\u001b[43m \u001b[49m\u001b[43mg2\u001b[49m\u001b[43m,\u001b[49m\u001b[43m \u001b[49m\u001b[43mj3\u001b[49m\u001b[43m,\u001b[49m\u001b[43m \u001b[49m\u001b[43mj9\u001b[49m\u001b[43m,\u001b[49m\u001b[43m \u001b[49m\u001b[43mc1\u001b[49m\u001b[43m,\u001b[49m\u001b[43m \u001b[49m\u001b[43mc2\u001b[49m\u001b[43m)\u001b[49m\u001b[43m)\u001b[49m\n",
            "Cell \u001b[1;32mIn[121], line 20\u001b[0m, in \u001b[0;36mreport\u001b[1;34m(searchers, problems, verbose)\u001b[0m\n\u001b[0;32m     18\u001b[0m \u001b[38;5;28;01mfor\u001b[39;00m p \u001b[38;5;129;01min\u001b[39;00m problems:\n\u001b[0;32m     19\u001b[0m     prob   \u001b[38;5;241m=\u001b[39m CountCalls(p)\n\u001b[1;32m---> 20\u001b[0m     soln   \u001b[38;5;241m=\u001b[39m \u001b[43msearcher\u001b[49m\u001b[43m(\u001b[49m\u001b[43mprob\u001b[49m\u001b[43m)\u001b[49m\n\u001b[0;32m     21\u001b[0m     counts \u001b[38;5;241m=\u001b[39m prob\u001b[38;5;241m.\u001b[39m_counts;\n\u001b[0;32m     22\u001b[0m     counts\u001b[38;5;241m.\u001b[39mupdate(actions\u001b[38;5;241m=\u001b[39m\u001b[38;5;28mlen\u001b[39m(soln), cost\u001b[38;5;241m=\u001b[39msoln\u001b[38;5;241m.\u001b[39mpath_cost)\n",
            "Cell \u001b[1;32mIn[91], line 23\u001b[0m, in \u001b[0;36miterative_deepening_search\u001b[1;34m(problem)\u001b[0m\n\u001b[0;32m     21\u001b[0m \u001b[38;5;124m\"\u001b[39m\u001b[38;5;124mDo depth-limited search with increasing depth limits.\u001b[39m\u001b[38;5;124m\"\u001b[39m\n\u001b[0;32m     22\u001b[0m \u001b[38;5;28;01mfor\u001b[39;00m limit \u001b[38;5;129;01min\u001b[39;00m \u001b[38;5;28mrange\u001b[39m(\u001b[38;5;241m1\u001b[39m, sys\u001b[38;5;241m.\u001b[39mmaxsize):\n\u001b[1;32m---> 23\u001b[0m     result \u001b[38;5;241m=\u001b[39m \u001b[43mdepth_limited_search\u001b[49m\u001b[43m(\u001b[49m\u001b[43mproblem\u001b[49m\u001b[43m,\u001b[49m\u001b[43m \u001b[49m\u001b[43mlimit\u001b[49m\u001b[43m)\u001b[49m\n\u001b[0;32m     24\u001b[0m     \u001b[38;5;28;01mif\u001b[39;00m result \u001b[38;5;241m!=\u001b[39m cutoff:\n\u001b[0;32m     25\u001b[0m         \u001b[38;5;28;01mreturn\u001b[39;00m result\n",
            "Cell \u001b[1;32mIn[91], line 33\u001b[0m, in \u001b[0;36mdepth_limited_search\u001b[1;34m(problem, limit)\u001b[0m\n\u001b[0;32m     31\u001b[0m result \u001b[38;5;241m=\u001b[39m failure\n\u001b[0;32m     32\u001b[0m \u001b[38;5;28;01mwhile\u001b[39;00m frontier:\n\u001b[1;32m---> 33\u001b[0m     node \u001b[38;5;241m=\u001b[39m frontier\u001b[38;5;241m.\u001b[39mpop()\n\u001b[0;32m     34\u001b[0m     \u001b[38;5;28;01mif\u001b[39;00m problem\u001b[38;5;241m.\u001b[39mis_goal(node\u001b[38;5;241m.\u001b[39mstate):\n\u001b[0;32m     35\u001b[0m         \u001b[38;5;28;01mreturn\u001b[39;00m node\n",
            "\u001b[1;31mKeyboardInterrupt\u001b[0m: "
          ]
        }
      ],
      "source": [
        "report((astar_search, uniform_cost_search,  breadth_first_search, breadth_first_bfs,\n",
        "        iterative_deepening_search, depth_limited_search, greedy_bfs,\n",
        "        weighted_astar_search),\n",
        "       (p1, p2, g1, g2, j3, j9, c1, c2))"
      ]
    },
    {
      "cell_type": "markdown",
      "metadata": {
        "id": "X46JTc3PJlHr"
      },
      "source": [
        "Esto confirma algunas de las cosas que ya sabíamos: A* y uniform-cost search son óptimos, pero los otros no lo son. A* explora menos nodos que uniform-cost."
      ]
    }
  ],
  "metadata": {
    "colab": {
      "provenance": []
    },
    "kernelspec": {
      "display_name": "Python 3",
      "language": "python",
      "name": "python3"
    },
    "language_info": {
      "codemirror_mode": {
        "name": "ipython",
        "version": 3
      },
      "file_extension": ".py",
      "mimetype": "text/x-python",
      "name": "python",
      "nbconvert_exporter": "python",
      "pygments_lexer": "ipython3",
      "version": "3.11.3"
    }
  },
  "nbformat": 4,
  "nbformat_minor": 0
}
